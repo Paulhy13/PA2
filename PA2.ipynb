{
 "cells": [
  {
   "cell_type": "code",
   "execution_count": 1,
   "id": "eef2c48f",
   "metadata": {},
   "outputs": [
    {
     "name": "stdout",
     "output_type": "stream",
     "text": [
      "Enter an integer: 12\n"
     ]
    }
   ],
   "source": [
    "Number1=int(input(\"Enter an integer: \"))"
   ]
  },
  {
   "cell_type": "code",
   "execution_count": 2,
   "id": "20117c38",
   "metadata": {},
   "outputs": [
    {
     "name": "stdout",
     "output_type": "stream",
     "text": [
      "Enter a floating point number: 12.5\n"
     ]
    }
   ],
   "source": [
    "Number2=float(input(\"Enter a floating point number: \"))"
   ]
  },
  {
   "cell_type": "code",
   "execution_count": 22,
   "id": "1b122ad0",
   "metadata": {},
   "outputs": [
    {
     "name": "stdout",
     "output_type": "stream",
     "text": [
      "The sum is 24.5\n"
     ]
    }
   ],
   "source": [
    "print('The sum is', (12+12.5))"
   ]
  },
  {
   "cell_type": "code",
   "execution_count": 23,
   "id": "d5388d0a",
   "metadata": {},
   "outputs": [
    {
     "name": "stdout",
     "output_type": "stream",
     "text": [
      "The difference is -0.5\n"
     ]
    }
   ],
   "source": [
    "print('The difference is', (12-12.5))"
   ]
  },
  {
   "cell_type": "code",
   "execution_count": 24,
   "id": "136befd6",
   "metadata": {},
   "outputs": [
    {
     "name": "stdout",
     "output_type": "stream",
     "text": [
      "The product is 150.0\n"
     ]
    }
   ],
   "source": [
    "print('The product is', (12*12.5))"
   ]
  },
  {
   "cell_type": "code",
   "execution_count": 25,
   "id": "07718476",
   "metadata": {},
   "outputs": [
    {
     "name": "stdout",
     "output_type": "stream",
     "text": [
      "The Quotient is 0.96\n"
     ]
    }
   ],
   "source": [
    "print('The Quotient is', (12/12.5))"
   ]
  },
  {
   "cell_type": "markdown",
   "id": "8bde8acc",
   "metadata": {},
   "source": [
    "## Programming Assignment 2, Paul Hyden, FA22"
   ]
  },
  {
   "cell_type": "code",
   "execution_count": null,
   "id": "1545b4ee",
   "metadata": {},
   "outputs": [],
   "source": []
  }
 ],
 "metadata": {
  "kernelspec": {
   "display_name": "Python 3 (ipykernel)",
   "language": "python",
   "name": "python3"
  },
  "language_info": {
   "codemirror_mode": {
    "name": "ipython",
    "version": 3
   },
   "file_extension": ".py",
   "mimetype": "text/x-python",
   "name": "python",
   "nbconvert_exporter": "python",
   "pygments_lexer": "ipython3",
   "version": "3.9.13"
  }
 },
 "nbformat": 4,
 "nbformat_minor": 5
}
